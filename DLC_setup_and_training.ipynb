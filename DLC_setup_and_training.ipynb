{
 "cells": [
  {
   "cell_type": "markdown",
   "metadata": {},
   "source": [
    "# Setup of *DeepLabCut* project, extraction of frames and network training"
   ]
  },
  {
   "cell_type": "code",
   "execution_count": null,
   "metadata": {},
   "outputs": [],
   "source": [
    "import deeplabcut\n",
    "import os"
   ]
  },
  {
   "cell_type": "code",
   "execution_count": null,
   "metadata": {},
   "outputs": [],
   "source": [
    "# find all videofiles in filepath\n",
    "videopath = \"/path_to_cwd/video/Homecage_Observation\"\n",
    "\n",
    "videofiles = [os.path.join(videopath, subdir, filename) for subdir in os.listdir(videopath) for filename in os.listdir(os.path.join(videopath, subdir))]"
   ]
  },
  {
   "cell_type": "code",
   "execution_count": null,
   "metadata": {},
   "outputs": [],
   "source": [
    "# create DLC project (insert names and paths)\n",
    "config_path = deeplabcut.create_new_project(\"project_name\", \"your_name\", videofiles, working_directory=\"/path/to/cwd/\", copy_videos=False, multianimal=False)"
   ]
  },
  {
   "cell_type": "code",
   "execution_count": null,
   "metadata": {},
   "outputs": [],
   "source": [
    "config_path = \"/path/to/DLC_project_folder/config.yaml\"\n",
    "superanimal_name = 'superanimal_quadruped'"
   ]
  },
  {
   "cell_type": "code",
   "execution_count": null,
   "metadata": {},
   "outputs": [],
   "source": [
    "# extracting frames from videos for labelling\n",
    "deeplabcut.extract_frames(config_path, mode=\"automatic\", algo=\"uniform\", userfeedback=False, crop=True)"
   ]
  },
  {
   "cell_type": "markdown",
   "metadata": {},
   "source": [
    "Label extracted frames with napari and then continue below."
   ]
  },
  {
   "cell_type": "code",
   "execution_count": null,
   "metadata": {},
   "outputs": [],
   "source": [
    "deeplabcut.check_labels(config_path, visualizeindividuals=True)"
   ]
  },
  {
   "cell_type": "code",
   "execution_count": null,
   "metadata": {},
   "outputs": [],
   "source": [
    "# prepare config and dataset for training\n",
    "deeplabcut.return_train_network_path(config_path)\n",
    "deeplabcut.create_training_dataset(config_path, augmenter_type=\"imgaug\")"
   ]
  },
  {
   "cell_type": "code",
   "execution_count": null,
   "metadata": {},
   "outputs": [],
   "source": [
    "# train network (use manage_dlc_model_snapshots.py for customizable snapshots)\n",
    "deeplabcut.train_network(config_path, maxiters=2000000, allow_growth=True)"
   ]
  },
  {
   "cell_type": "code",
   "execution_count": null,
   "metadata": {},
   "outputs": [],
   "source": [
    "# evaluation\n",
    "deeplabcut.evaluate_network(config_path, Shuffles=[1], plotting=True)"
   ]
  },
  {
   "cell_type": "code",
   "execution_count": null,
   "metadata": {},
   "outputs": [],
   "source": [
    "# draw annotations into a few videos to visually confirm results\n",
    "video_q = [\n",
    "    \"/path/to/DLC_project_folder/videos/SEG_3408.MP4\", \n",
    "    \"/path/to/DLC_project_folder/videos/SEG_3420.MP4\", \n",
    "    \"/path/to/DLC_project_folder/videos/SEG_3438.MP4\",\n",
    "    ]\n",
    "deeplabcut.analyze_videos(config_path, video_q, save_as_csv=True)\n",
    "deeplabcut.create_labeled_video(config_path, video_q, save_frames = True, filtered=True)"
   ]
  },
  {
   "cell_type": "code",
   "execution_count": null,
   "metadata": {},
   "outputs": [],
   "source": [
    "# filter positions with median filter\n",
    "deeplabcut.filterpredictions(config_path, video_q)"
   ]
  },
  {
   "cell_type": "code",
   "execution_count": null,
   "metadata": {},
   "outputs": [],
   "source": [
    "# create graphs about joint positions and movements\n",
    "deeplabcut.plot_trajectories(config_path, video_q, filtered=True)"
   ]
  },
  {
   "cell_type": "code",
   "execution_count": null,
   "metadata": {},
   "outputs": [],
   "source": [
    "# get all videonames and convert to paths\n",
    "all_videonames = [video for video in os.listdir(\"/path/to/DLC_project_folder/videos\") if video.endswith(\".MP4\") and len(video) == 12]\n",
    "all_videos = [os.path.join(\"/path/to/DLC_project_folder/videos\", video) for video in all_videonames]"
   ]
  },
  {
   "cell_type": "code",
   "execution_count": null,
   "metadata": {},
   "outputs": [],
   "source": [
    "# run inference on all videos\n",
    "deeplabcut.analyze_videos(config_path, all_videos, save_as_csv=True)"
   ]
  },
  {
   "cell_type": "code",
   "execution_count": null,
   "metadata": {},
   "outputs": [],
   "source": [
    "# filter all predictions\n",
    "deeplabcut.filterpredictions(config_path, all_videos)"
   ]
  },
  {
   "cell_type": "markdown",
   "metadata": {},
   "source": [
    "The filtered predictions are now stored in `.csv` files for each video at `/path/to/<DLC_project_folder>/videos`."
   ]
  }
 ],
 "metadata": {
  "kernelspec": {
   "display_name": "DLC",
   "language": "python",
   "name": "python3"
  },
  "language_info": {
   "codemirror_mode": {
    "name": "ipython",
    "version": 3
   },
   "file_extension": ".py",
   "mimetype": "text/x-python",
   "name": "python",
   "nbconvert_exporter": "python",
   "pygments_lexer": "ipython3",
   "version": "3.9.18"
  }
 },
 "nbformat": 4,
 "nbformat_minor": 2
}
